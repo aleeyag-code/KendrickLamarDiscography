{
  "cells": [
    {
      "cell_type": "code",
      "execution_count": null,
      "metadata": {
        "id": "AVyUueISfBIV"
      },
      "outputs": [],
      "source": [
        "import tensorflow as tf\n",
        "import pandas as pd\n",
        "import numpy as np\n",
        "import seaborn as sns\n",
        "import matplotlib.pyplot as plt\n",
        "from sklearn.model_selection import train_test_split\n",
        "from sklearn.preprocessing import LabelEncoder, MinMaxScaler\n",
        "from sklearn.metrics import classification_report\n",
        "from tensorflow import keras\n",
        "from tensorflow.keras.models import Sequential\n",
        "from tensorflow.keras.layers import Dense, Conv1D, MaxPooling1D, Flatten, Dropout\n",
        "from tensorflow.keras.utils import to_categorical\n"
      ]
    },
    {
      "cell_type": "code",
      "execution_count": null,
      "metadata": {
        "colab": {
          "base_uri": "https://localhost:8080/",
          "height": 330
        },
        "id": "SbpeMUIvwQTR",
        "outputId": "6b241fa0-9ca4-499e-9bde-51ceeb26b6c7"
      },
      "outputs": [],
      "source": [
        "all_tracks = pd.read_csv('all_kendrick_tracks.csv')\n",
        "album_tracks = pd.read_csv('kendrick_album_tracks.csv')\n",
        "singles_features = pd.read_csv('kendrick_singles_features.csv')\n",
        "\n",
        "all_tracks.head()\n",
        "album_tracks.head()\n",
        "singles_features.head()"
      ]
    },
    {
      "cell_type": "markdown",
      "metadata": {
        "id": "ETvrtIIM1dVY"
      },
      "source": [
        "**Audio Features Analysis**"
      ]
    },
    {
      "cell_type": "code",
      "execution_count": null,
      "metadata": {
        "colab": {
          "base_uri": "https://localhost:8080/",
          "height": 787
        },
        "id": "98MyPFrv2Ev4",
        "outputId": "6c0ae79d-69f7-4c09-9187-ee71078c17bc"
      },
      "outputs": [],
      "source": [
        "audio_features = all_tracks[['danceability', 'energy', 'valence']]\n",
        "sns.pairplot(audio_features)\n",
        "plt.suptitle('Audio Features Analysis', y=1.02)\n",
        "plt.show()"
      ]
    },
    {
      "cell_type": "markdown",
      "metadata": {
        "id": "AxXlR3sd4DvL"
      },
      "source": [
        "**Correlation Analysis**\n",
        "how the numeric feaures in the dataset such as:\n",
        "\n",
        "\n",
        "*   Duration (ms)\n",
        "*   Popularity\n",
        "* Danceability\n",
        "* Energy\n",
        "* Valence\n",
        "* Acousticness\n",
        "* Instrumentalness\n",
        "* Liveness\n",
        "* Release year\n",
        "*Duration (min)\n",
        "\n"
      ]
    },
    {
      "cell_type": "code",
      "execution_count": null,
      "metadata": {
        "colab": {
          "base_uri": "https://localhost:8080/",
          "height": 558
        },
        "id": "J1eEbl-s1e6B",
        "outputId": "79a4e616-d5bb-4e31-8876-2bca516b98da"
      },
      "outputs": [],
      "source": [
        "numeric_df = all_tracks.select_dtypes(include=[np.number])\n",
        "correlation_matrix = numeric_df.corr()\n",
        "sns.heatmap(correlation_matrix, annot=True, cmap='coolwarm')\n",
        "plt.title('Correlation Analysis')\n",
        "plt.show()"
      ]
    },
    {
      "cell_type": "markdown",
      "metadata": {
        "id": "Up9Ll8ui-N7Y"
      },
      "source": [
        "**Load and Preprocess the Data**\n"
      ]
    },
    {
      "cell_type": "code",
      "execution_count": null,
      "metadata": {
        "id": "6pyH2kiJLkg3"
      },
      "outputs": [],
      "source": [
        "features = ['danceability', 'energy', 'valence', 'loudness', 'acousticness', 'speechiness', 'instrumentalness']\n",
        "x = all_tracks[features].values\n",
        "y = all_tracks['explicit'].values\n",
        "\n",
        "label_encoder = LabelEncoder()\n",
        "y_encoded = label_encoder.fit_transform(y)\n",
        "y_categorical = to_categorical(y_encoded)\n",
        "\n",
        "scaler = MinMaxScaler()\n",
        "x_normalized = scaler.fit_transform(x)\n",
        "\n",
        "x_reshaped = x_normalized.reshape(x_normalized.shape[0], x_normalized.shape[1], 1)\n",
        "\n",
        "x_train, x_test, y_train, y_test = train_test_split(x_reshaped, y_categorical, test_size=0.2, random_state=42)\n",
        "\n"
      ]
    },
    {
      "cell_type": "markdown",
      "metadata": {
        "id": "XMjDiwwrx2Ho"
      },
      "source": [
        "**CNN Model**\n"
      ]
    },
    {
      "cell_type": "code",
      "execution_count": null,
      "metadata": {
        "colab": {
          "base_uri": "https://localhost:8080/"
        },
        "id": "XYNBdFVyx48c",
        "outputId": "50744986-571b-4215-c7e9-87900bc01ce9"
      },
      "outputs": [],
      "source": [
        "model = Sequential([\n",
        "    Conv1D(filters=32, kernel_size=3, activation='relu', input_shape=(x_train.shape[1], 1)),\n",
        "    MaxPooling1D(pool_size=2),\n",
        "    Dropout(0.3),\n",
        "    Conv1D(filters=64, kernel_size=2, activation='relu'),\n",
        "    Dropout(0.3),\n",
        "    Flatten(),\n",
        "    Dense(128, activation='relu'),\n",
        "    Dropout(0.5),\n",
        "    Dense(y_train.shape[1], activation='softmax')\n",
        "])\n",
        "\n",
        "model.compile(optimizer='adam', loss='categorical_crossentropy', metrics=['accuracy'])"
      ]
    },
    {
      "cell_type": "markdown",
      "metadata": {
        "id": "-yWdtiOWy7IN"
      },
      "source": [
        "**Train and Evaluate the Model**\n"
      ]
    },
    {
      "cell_type": "code",
      "execution_count": null,
      "metadata": {
        "colab": {
          "base_uri": "https://localhost:8080/"
        },
        "id": "t0P1Gjixy_nw",
        "outputId": "69f7dbd1-2b5b-48b6-f1df-7f25f1fe96c4"
      },
      "outputs": [],
      "source": [
        "history = model.fit(x_train, y_train, epochs=30, batch_size=32, validation_split=0.2)\n",
        "\n",
        "test_loss, test_accuracy = model.evaluate(x_test, y_test)\n",
        "print(f\"Test Loss: {test_loss}\")\n",
        "print(f\"Test Accuracy: {test_accuracy}\")"
      ]
    },
    {
      "cell_type": "markdown",
      "metadata": {
        "id": "c3nfcgaK0SsM"
      },
      "source": [
        "**Make Predictions**\n"
      ]
    },
    {
      "cell_type": "code",
      "execution_count": null,
      "metadata": {
        "colab": {
          "base_uri": "https://localhost:8080/"
        },
        "id": "s1DnOG3s0X1-",
        "outputId": "4871db0d-0ee6-423b-fe20-2f036dc8db09"
      },
      "outputs": [],
      "source": [
        "predictions = model.predict(x_test)\n",
        "predicted_classes = np.argmax(predictions, axis=1)\n",
        "true_classes = np.argmax(y_test, axis=1)\n",
        "\n",
        "predicted_popularity = label_encoder.inverse_transform(predicted_classes)\n",
        "true_popularity = label_encoder.inverse_transform(true_classes)\n",
        "\n",
        "for i in range(5):\n",
        "  print(f\"True Popularity: {true_popularity[i]}, Predicted Popularity: {predicted_popularity[i]}\")\n",
        "\n",
        "print(all_tracks['popularity'].value_counts)"
      ]
    },
    {
      "cell_type": "markdown",
      "metadata": {
        "id": "1_Fi-3mU1jlx"
      },
      "source": [
        "**Visualization of Results**"
      ]
    },
    {
      "cell_type": "code",
      "execution_count": null,
      "metadata": {
        "colab": {
          "base_uri": "https://localhost:8080/",
          "height": 1000
        },
        "id": "usjxIii91nhs",
        "outputId": "e81fc374-0ac0-4b5f-9a1c-8d0d562c82f5"
      },
      "outputs": [],
      "source": [
        "plt.plot(history.history['accuracy'], label='Train Accuracy')\n",
        "plt.plot(history.history['val_accuracy'], label='Validation Accuracy')\n",
        "plt.xlabel('Epochs')\n",
        "plt.ylabel('Accuracy')\n",
        "plt.legend()\n",
        "plt.title('Model Accuracy')\n",
        "plt.show()\n",
        "\n",
        "plt.plot(history.history['loss'], label='Train Loss')\n",
        "plt.plot(history.history['val_loss'], label='Validation Loss')\n",
        "plt.xlabel('Epochs')\n",
        "plt.ylabel('Loss')\n",
        "plt.legend()\n",
        "plt.title('Model Loss')\n",
        "plt.show()\n",
        "\n",
        "print(classification_report(true_classes, predicted_classes))\n"
      ]
    },
    {
      "cell_type": "markdown",
      "metadata": {
        "id": "gPTMuhBs2_W5"
      },
      "source": [
        "**Final Notes**\n",
        "from the results we can see that their is a consistent True prediction, this is ideal for results based but also indicates limitations in testing or data diversity.\n",
        "\n",
        "\n",
        "---\n",
        "\n"
      ]
    }
  ],
  "metadata": {
    "colab": {
      "provenance": []
    },
    "kernelspec": {
      "display_name": "Python 3",
      "name": "python3"
    },
    "language_info": {
      "name": "python"
    }
  },
  "nbformat": 4,
  "nbformat_minor": 0
}
